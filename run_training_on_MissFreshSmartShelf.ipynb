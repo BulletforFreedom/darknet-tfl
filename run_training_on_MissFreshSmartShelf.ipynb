{
 "cells": [
  {
   "cell_type": "code",
   "execution_count": 10,
   "metadata": {
    "collapsed": true
   },
   "outputs": [],
   "source": [
    "import os\n",
    "import time"
   ]
  },
  {
   "cell_type": "code",
   "execution_count": 11,
   "metadata": {
    "collapsed": true
   },
   "outputs": [],
   "source": [
    "restart_training = False\n",
    "\n",
    "dataset_conf = 'tfl/MissFreshSmartShelf/cfg/goodid.data'\n",
    "\n",
    "# finetune from darknet19-coco\n",
    "#model_struct_path = 'tfl/goods-id/cfg/yolo.cfg'\n",
    "#model_weights_path = 'pretrain_models/yolo.weights.30'\n",
    "\n",
    "# finetune from darknet19-imagenet12\n",
    "#model_struct_path = 'tfl/goods-id/cfg/yolo-voc.cfg'\n",
    "#model_weights_path = 'pretrain_models/darknet19_448.conv.23'\n",
    "\n",
    "# finetune from darknet19-imagenet12-608\n",
    "model_struct_path = 'tfl/MissFreshSmartShelf/cfg/yolo-voc-800.cfg'\n",
    "model_weights_path = 'pretrain_models/darknet19_448.conv.23'"
   ]
  },
  {
   "cell_type": "code",
   "execution_count": null,
   "metadata": {},
   "outputs": [
    {
     "name": "stdout",
     "output_type": "stream",
     "text": [
      "Mon Mar 26 17:43:32 2018\n"
     ]
    }
   ],
   "source": [
    "#start-training-time\n",
    "print time.ctime()\n",
    "stime = time.time()\n",
    "\n",
    "if not restart_training:\n",
    "    #os.system('./darknet detector train'+' '+dataset_conf+' '+model_struct_path+' '+model_weights_path+' -gpus 0,1')\n",
    "    os.system('nohup ./darknet detector train'+' '+dataset_conf+' '+model_struct_path+' '+model_weights_path+' -gpus 0,1'+' >goodsid.log 2>&1')\n",
    "    #os.system('./darknet detector train'+' '+dataset_conf+' '+model_struct_path+' '+model_weights_path+' -gpus 0,1')\n",
    "else:\n",
    "    suffix = '4000'\n",
    "    model_weights_path = 'tfl/MissFreshSmartShelf/backup/yolo-voc-800.weights'\n",
    "    os.system('nohup ./darknet detector train'+' '+dataset_conf+' '+model_struct_path+' '+model_weights_path+' -gpus 0,1'+' >goodsid%s.log 2>&1'%suffix)\n",
    "    #os.system('./darknet detector train'+' '+dataset_conf+' '+model_struct_path+' '+model_weights_path+' -gpus 0,1')\n",
    "\n",
    "#end-training-time\n",
    "print time.ctime()\n",
    "etime = time.time()\n",
    "\n",
    "# Training Time\n",
    "dur_sec = etime-stime\n",
    "\n",
    "hour = int(dur_sec/3600)\n",
    "minute = int( (dur_sec-3600*hour)/60 )\n",
    "\n",
    "print ('%d h, %d m'%(hour,minute))"
   ]
  },
  {
   "cell_type": "code",
   "execution_count": null,
   "metadata": {
    "collapsed": true
   },
   "outputs": [],
   "source": []
  }
 ],
 "metadata": {
  "kernelspec": {
   "display_name": "Python 2",
   "language": "python",
   "name": "python2"
  },
  "language_info": {
   "codemirror_mode": {
    "name": "ipython",
    "version": 2
   },
   "file_extension": ".py",
   "mimetype": "text/x-python",
   "name": "python",
   "nbconvert_exporter": "python",
   "pygments_lexer": "ipython2",
   "version": "2.7.5"
  }
 },
 "nbformat": 4,
 "nbformat_minor": 2
}
